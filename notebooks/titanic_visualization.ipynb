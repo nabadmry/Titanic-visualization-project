{
 "cells": [
  {
   "cell_type": "code",
   "execution_count": null,
   "metadata": {},
   "outputs": [],
   "source": [
    "# Titanic Dataset Visualization Project\n",
    "import seaborn as sns\n",
    "import matplotlib.pyplot as plt\n",
    "import pandas as pd\n",
    "\n",
    "# Load dataset (make sure train.csv is in dataset folder)\n",
    "df = pd.read_csv('dataset/train.csv')\n",
    "print(df.head())\n",
    "\n",
    "# 1. Survival count\n",
    "sns.countplot(x='Survived', data=df, palette='Set2')\n",
    "plt.title('Survival Count')\n",
    "plt.savefig('../images/survival_count.png')\n",
    "plt.show()\n",
    "\n",
    "# 2. Survival by Gender\n",
    "sns.countplot(x='Sex', hue='Survived', data=df, palette='Set1')\n",
    "plt.title('Survival by Gender')\n",
    "plt.savefig('../images/survival_by_gender.png')\n",
    "plt.show()\n",
    "\n",
    "# 3. Survival by Class\n",
    "sns.countplot(x='Pclass', hue='Survived', data=df, palette='Set3')\n",
    "plt.title('Survival by Passenger Class')\n",
    "plt.savefig('../images/survival_by_class.png')\n",
    "plt.show()\n",
    "\n",
    "# 4. Age distribution\n",
    "sns.boxplot(x='Survived', y='Age', data=df, palette='coolwarm')\n",
    "plt.title('Age Distribution by Survival')\n",
    "plt.savefig('../images/age_distribution.png')\n",
    "plt.show()\n",
    "\n",
    "# 5. Fare distribution\n",
    "sns.kdeplot(data=df, x='Fare', hue='Survived', fill=True)\n",
    "plt.title('Fare Distribution by Survival')\n",
    "plt.savefig('../images/fare_distribution.png')\n",
    "plt.show()"
   ]
  }
 ],
 "metadata": {
  "kernelspec": {
   "display_name": "Python 3",
   "language": "python",
   "name": "python3"
  },
  "language_info": {
   "name": "python",
   "version": "3.8"
  }
 },
 "nbformat": 4,
 "nbformat_minor": 2
}
